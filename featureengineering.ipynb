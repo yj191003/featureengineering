{
  "nbformat": 4,
  "nbformat_minor": 0,
  "metadata": {
    "colab": {
      "provenance": []
    },
    "kernelspec": {
      "name": "python3",
      "display_name": "Python 3"
    },
    "language_info": {
      "name": "python"
    }
  },
  "cells": [
    {
      "cell_type": "markdown",
      "source": [],
      "metadata": {
        "id": "zgyYc3I7d6Nl"
      }
    },
    {
      "cell_type": "code",
      "execution_count": null,
      "metadata": {
        "id": "LrRIJ0i2jhqs"
      },
      "outputs": [],
      "source": [
        "# 1) What is a parameter ?\n",
        "# ans: A parameter is a variable used to pass information into a function or method in programming."
      ]
    },
    {
      "cell_type": "code",
      "source": [
        "# 2) What is correlation?\n",
        "# What does negative correlation mean?\n",
        "# ans: Correlation is a statistical measure that shows how two variables move in relation to each other. It helps us understand whether an increase in one variable causes an increase or decrease in another.\n",
        "# A negative correlation means that as one variable increases, the other decreases."
      ],
      "metadata": {
        "id": "4250SW-7kHCH"
      },
      "execution_count": null,
      "outputs": []
    },
    {
      "cell_type": "code",
      "source": [
        "# 3) Define Machine Learning. What are the main components in Machine Learning?\n",
        "# ANS: Machine Learning is a branch of Artificial Intelligence (AI) that allows computers to learn from data and make decisions or predictions without being explicitly programmed for every task.\n"
      ],
      "metadata": {
        "id": "rFJOPjwukjQH"
      },
      "execution_count": null,
      "outputs": []
    },
    {
      "cell_type": "code",
      "source": [
        "# 4) How does loss value help in determining whether the model is good or not?\n",
        "# ANS: The loss value is a key indicator of how well a machine learning model is performing, particularly during training and evaluation. Here's how it helps you determine whether your model is \"good\" or not:\n"
      ],
      "metadata": {
        "id": "0CD4yo2NHeO0"
      },
      "execution_count": null,
      "outputs": []
    },
    {
      "cell_type": "code",
      "source": [
        "# 5) What are continuous and categorical variables?\n",
        "# ANS:  Continuous Variables\n",
        "# These are numerical variables that can take any value within a range (often infinite or very large).\n",
        "# ✅ Characteristics:\n",
        "# Can be measured (not just counted).\n",
        "# Often come from physical quantities like time, weight, height, or temperature.\n",
        "# Can have decimal values"
      ],
      "metadata": {
        "id": "y5sZOshXHqBL"
      },
      "execution_count": null,
      "outputs": []
    },
    {
      "cell_type": "code",
      "source": [
        "# 6)How do we handle categorical variables in Machine Learning? What are the common t\n",
        "  #  echniques\n",
        "# ANS: Handling categorical variables properly is essential in machine learning, since most models can't process them directly. They need to be converted into numerical formats. Here's a breakdown of common techniques to handle categorical variables:\n",
        "\n"
      ],
      "metadata": {
        "id": "uWKxslwNH8EH"
      },
      "execution_count": null,
      "outputs": []
    },
    {
      "cell_type": "code",
      "source": [
        "# 7) What do you mean by training and testing a dataset?\n",
        "# ANS: Training the Dataset\n",
        "# Purpose: To teach the model how to make predictions.\n",
        "# You feed the model with input features (X) and target labels (y).\n",
        "# The model learns patterns or relationships in the data by minimizing error (loss)"
      ],
      "metadata": {
        "id": "Dli-WGQTIKXy"
      },
      "execution_count": null,
      "outputs": []
    },
    {
      "cell_type": "code",
      "source": [
        "# 8) What is sklearn.preprocessing?\n",
        "# ANS: he sklearn.preprocessing module in Scikit-learn is a powerful toolkit used to prepare and transform data before feeding it into a machine learning model.\n",
        "\n"
      ],
      "metadata": {
        "id": "2Xn4c0dlIY4A"
      },
      "execution_count": null,
      "outputs": []
    },
    {
      "cell_type": "code",
      "source": [
        "# 9) What is a Test set?\n",
        "# ANS: A test set is a portion of your dataset that is set aside to evaluate the final performance of a machine learning model after it has been trained.\n",
        "\n"
      ],
      "metadata": {
        "id": "TdXAP6XfIhHU"
      },
      "execution_count": null,
      "outputs": []
    },
    {
      "cell_type": "code",
      "source": [
        "# 10) How do we split data for model fitting (training and testing) in Python?\n",
        "# How do you approach a Machine Learning problem?\n",
        "# ANS: test_size=0.2 → 20% of data for testing, 80% for training\n",
        "# random_state=42 → ensures reproducibility\n",
        "# stratify=y (optional) → keeps class distribution the same in both sets (useful for classification)"
      ],
      "metadata": {
        "id": "ma9cIfzpIpLe"
      },
      "execution_count": null,
      "outputs": []
    },
    {
      "cell_type": "code",
      "source": [
        "# 11) Why do we have to perform EDA before fitting a model to the data?\n",
        "# ANS: Performing Exploratory Data Analysis (EDA) before fitting a model is crucial in any machine learning workflow. Think of EDA as the diagnostic step—you examine the data to understand its structure, quality, and relationships before trusting it to train a model.\n"
      ],
      "metadata": {
        "id": "rVLGn6BaJNIc"
      },
      "execution_count": null,
      "outputs": []
    },
    {
      "cell_type": "code",
      "source": [
        "# 12) What is correlation?\n",
        "# ANS: It tells you how much one variable changes when another variable changes.\n",
        "# Correlation is commonly used in Exploratory Data Analysis (EDA) to identify which features are related to each other or to the target variable."
      ],
      "metadata": {
        "id": "AfqgX0x-Jabk"
      },
      "execution_count": null,
      "outputs": []
    },
    {
      "cell_type": "code",
      "source": [
        "# 13) What does negative correlation mean?\n",
        "# ANS: Negative correlation occurs when two variables are inversely related.\n",
        "# In other words:\n",
        "# When X goes up, Y tends to go down\n",
        "# When X goes down, Y tends to go up"
      ],
      "metadata": {
        "id": "a71Ax7ZoJnGf"
      },
      "execution_count": null,
      "outputs": []
    },
    {
      "cell_type": "code",
      "source": [
        "# 14) How can you find correlation between variables in Python?\n",
        "#  ANS: Finding correlation between variables in Python is straightforward, especially using pandas and seaborn for visualization\n"
      ],
      "metadata": {
        "id": "KP7Y0UKsJ3yl"
      },
      "execution_count": null,
      "outputs": []
    },
    {
      "cell_type": "code",
      "source": [
        "# 15) What is causation? Explain difference between correlation and causation with an example.?\n",
        "# ANS: Causation means that one event (or variable) directly causes another to happen.\n",
        "# In other words, a change in variable A produces a change in variable B."
      ],
      "metadata": {
        "id": "xVWsUZc3KFdw"
      },
      "execution_count": null,
      "outputs": []
    },
    {
      "cell_type": "code",
      "source": [
        "# 16) What is an Optimizer? What are different types of optimizers? Explain each with an example.\n",
        "# ANS: An optimizer is an algorithm used to adjust the model’s parameters (weights and biases) to minimize the loss function during training.\n",
        "# It controls how the model learns from the data.\n",
        "# The goal: find the best parameters that reduce prediction error.\n",
        "# Typically uses gradients computed via backpropagatio"
      ],
      "metadata": {
        "id": "6bWWAH6YKR47"
      },
      "execution_count": null,
      "outputs": []
    },
    {
      "cell_type": "code",
      "source": [
        "# 17) What is sklearn.linear_model ?\n",
        "# ANS: sklearn.linear_model is a module in Scikit-learn that contains implementations of linear models for regression and classificatio"
      ],
      "metadata": {
        "id": "8vjJP2YaKdS0"
      },
      "execution_count": null,
      "outputs": []
    },
    {
      "cell_type": "code",
      "source": [
        "# 18) What does model.fit() do? What arguments must be given?\n",
        "# ANS: model.fit() is the method used to train or fit a machine learning model to your data.\n",
        "# It learns the parameters (like weights in linear regression or decision boundaries in classifiers) by analyzing the training data.\n",
        "# The process depends on the model, but generally it minimizes the loss function based on the input data."
      ],
      "metadata": {
        "id": "KGjr0I-TKrBG"
      },
      "execution_count": null,
      "outputs": []
    },
    {
      "cell_type": "code",
      "source": [
        "# 19) What does model.predict() do? What arguments must be given?\n",
        "# ANS: After training a model with fit(), you use predict() to make predictions on new data.\n",
        "# It takes input features and outputs the model’s predicted target values.\n",
        "# For regression, it predicts continuous values.\n",
        "# For classification, it predicts class labels (or probabilities, with other methods).\n",
        "\n"
      ],
      "metadata": {
        "id": "N0KB-OFEK-Gg"
      },
      "execution_count": null,
      "outputs": []
    },
    {
      "cell_type": "code",
      "source": [
        "# 20) What are continuous and categorical variables?\n",
        "# ANS: These are variables that can take any value within a range.\n",
        "# Usually numerical and can be measured.\n",
        "# Examples:\n",
        "# Height (e.g., 170.5 cm)\n",
        "# Temperature (e.g., 23.7°C)\n",
        "# Salary (e.g., $45,000.75)\n",
        "# They often represent quantities and can be decimals."
      ],
      "metadata": {
        "id": "b7OiEpC1LVTl"
      },
      "execution_count": null,
      "outputs": []
    },
    {
      "cell_type": "code",
      "source": [
        "# 21) What is feature scaling? How does it help in Machine Learning?\n",
        "# ANS: Feature scaling is the process of standardizing or normalizing the range of independent variables (features) in your dataset.\n",
        "# It transforms features so they have a similar scale.\n",
        "# Common techniques include:\n",
        "# Normalization (scaling features to a fixed range, e.g., 0 to 1)\n",
        "# Standardization (scaling features to have mean = 0 and standard deviation = 1)\n"
      ],
      "metadata": {
        "id": "87nJMI7rLncn"
      },
      "execution_count": null,
      "outputs": []
    },
    {
      "cell_type": "code",
      "source": [
        "# 22) How do we perform scaling in Python?\n",
        "# ANS: For standardization (mean=0, std=1): StandardScaler\n",
        "# For normalization (scale to 0-1 range): MinMaxScaler\n",
        "# For scaling robust to outliers: RobustScaler"
      ],
      "metadata": {
        "id": "kkRwElWYL2LY"
      },
      "execution_count": null,
      "outputs": []
    },
    {
      "cell_type": "code",
      "source": [
        "# 23) What is sklearn.preprocessing?\n",
        "# ANS: sklearn.preprocessing is a module in Scikit-learn that provides utilities and functions to prepare and transform your data before feeding it into machine learning models.\n",
        "\n"
      ],
      "metadata": {
        "id": "QlwVal4EMSFL"
      },
      "execution_count": null,
      "outputs": []
    },
    {
      "cell_type": "code",
      "source": [
        "# 24) How do we split data for model fitting (training and testing) in Python?\n",
        "#  ANS: The most common way is to use train_test_split from sklearn.model_selection."
      ],
      "metadata": {
        "id": "xDFzlUwwMbhO"
      },
      "execution_count": null,
      "outputs": []
    },
    {
      "cell_type": "code",
      "source": [
        "# 25) Explain data encoding?\n",
        "# ANS: Data encoding is the process of transforming categorical data into numerical format so that machine learning algorithms can understand and process it.\n",
        "# Most ML models work with numbers, not text or categories\n",
        "# Encoding converts categories (like \"Red\", \"Blue\", \"Green\") into numbers"
      ],
      "metadata": {
        "id": "X7tsm8OeMm7P"
      },
      "execution_count": null,
      "outputs": []
    }
  ]
}